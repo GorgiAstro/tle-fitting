{
 "cells": [
  {
   "cell_type": "markdown",
   "metadata": {},
   "source": [
    "# Description\n",
    "This Notebook does the following:\n",
    "\n",
    "* Propagate a spacecraft using a numerical propagator, with the following perturbation forces included:\n",
    "  * Gravity field (EIGEN6S with degree 64, order 64)\n",
    "  * Atmospheric drag (NRLMSISE00 at average solar activity)\n",
    "  * Solar radiation pressure\n",
    "  * Moon attraction\n",
    "  * Sun attraction\n",
    "* Fit a Two-Line Elements set on the spacecraft states obtained by the propagation"
   ]
  },
  {
   "cell_type": "markdown",
   "metadata": {},
   "source": [
    "# Parameters"
   ]
  },
  {
   "cell_type": "markdown",
   "metadata": {},
   "source": [
    "Spacecraft properties"
   ]
  },
  {
   "cell_type": "code",
   "execution_count": 1,
   "metadata": {},
   "outputs": [],
   "source": [
    "sc_mass = 400.0 # kg\n",
    "sc_cross_section = 0.3 # m2\n",
    "cd_drag_coeff = 2.0 \n",
    "cr_radiation_pressure = 1.0"
   ]
  },
  {
   "cell_type": "markdown",
   "metadata": {},
   "source": [
    "* The start date has an influence on the solar activity and therefore on the drag\n",
    "* The duration has an influence on the mean elements being fitted to the Keplerian elements"
   ]
  },
  {
   "cell_type": "code",
   "execution_count": 2,
   "metadata": {},
   "outputs": [],
   "source": [
    "from datetime import datetime\n",
    "date_start = datetime(2019, 1, 1)\n",
    "fitting_duration_d = 1 # days"
   ]
  },
  {
   "cell_type": "markdown",
   "metadata": {},
   "source": [
    "Keplerian elements"
   ]
  },
  {
   "cell_type": "code",
   "execution_count": 3,
   "metadata": {},
   "outputs": [],
   "source": [
    "import numpy as np\n",
    "a = 7000.0e3  # meters\n",
    "e = 0.001\n",
    "i = float(np.deg2rad(98.0))  # Conversion to Python float is required for Orekit\n",
    "pa = float(np.deg2rad(42.0))\n",
    "raan = float(np.deg2rad(42.0))\n",
    "ma = float(np.deg2rad(42.0))  # Mean anomaly"
   ]
  },
  {
   "cell_type": "markdown",
   "metadata": {},
   "source": [
    "Satellite information"
   ]
  },
  {
   "cell_type": "code",
   "execution_count": 4,
   "metadata": {},
   "outputs": [],
   "source": [
    "satellite_number = 99999\n",
    "classification = 'X'\n",
    "launch_year = 2018\n",
    "launch_number = 42\n",
    "launch_piece = 'F'\n",
    "ephemeris_type = 0\n",
    "element_number = 999\n",
    "revolution_number = 100"
   ]
  },
  {
   "cell_type": "markdown",
   "metadata": {},
   "source": [
    "Numerical propagator parameters"
   ]
  },
  {
   "cell_type": "code",
   "execution_count": 5,
   "metadata": {},
   "outputs": [],
   "source": [
    "dt = 60.0  # s, period at which the spacecraft states are saved to fit the TLE\n",
    "\n",
    "prop_min_step = 0.001 # s\n",
    "prop_max_step = 300.0 # s\n",
    "prop_position_error = 10.0 # m\n",
    "\n",
    "# Estimator parameters\n",
    "estimator_position_scale = 1.0 # m\n",
    "estimator_convergence_thres = 1e-3\n",
    "estimator_max_iterations = 25\n",
    "estimator_max_evaluations = 35"
   ]
  },
  {
   "cell_type": "markdown",
   "metadata": {},
   "source": [
    "# Setting up Orekit"
   ]
  },
  {
   "cell_type": "markdown",
   "metadata": {},
   "source": [
    "Creating VM and loading data zip"
   ]
  },
  {
   "cell_type": "code",
   "execution_count": 6,
   "metadata": {},
   "outputs": [],
   "source": [
    "import orekit\n",
    "orekit.initVM()\n",
    "\n",
    "from orekit.pyhelpers import setup_orekit_curdir\n",
    "setup_orekit_curdir()"
   ]
  },
  {
   "cell_type": "markdown",
   "metadata": {},
   "source": [
    "Setting up frames"
   ]
  },
  {
   "cell_type": "code",
   "execution_count": 7,
   "metadata": {},
   "outputs": [],
   "source": [
    "from org.orekit.frames import FramesFactory, ITRFVersion\n",
    "from org.orekit.utils import IERSConventions\n",
    "gcrf = FramesFactory.getGCRF()\n",
    "teme = FramesFactory.getTEME()\n",
    "itrf = FramesFactory.getITRF(IERSConventions.IERS_2010, False)\n",
    "\n",
    "from org.orekit.models.earth import ReferenceEllipsoid\n",
    "wgs84_ellipsoid = ReferenceEllipsoid.getWgs84(itrf)\n",
    "\n",
    "from org.orekit.bodies import CelestialBodyFactory\n",
    "moon = CelestialBodyFactory.getMoon()\n",
    "sun = CelestialBodyFactory.getSun()"
   ]
  },
  {
   "cell_type": "markdown",
   "metadata": {},
   "source": [
    "Creating the Keplerian orbit"
   ]
  },
  {
   "cell_type": "code",
   "execution_count": 8,
   "metadata": {},
   "outputs": [],
   "source": [
    "from org.orekit.orbits import KeplerianOrbit, PositionAngle\n",
    "from org.orekit.utils import Constants as orekit_constants\n",
    "from orekit.pyhelpers import datetime_to_absolutedate\n",
    "date_start_orekit = datetime_to_absolutedate(date_start)\n",
    "keplerian_orbit = KeplerianOrbit(a, e, i, pa, raan, ma, PositionAngle.MEAN, \n",
    "                                 gcrf, date_start_orekit, orekit_constants.EIGEN5C_EARTH_MU)"
   ]
  },
  {
   "cell_type": "markdown",
   "metadata": {},
   "source": [
    "Creating the initial TLE from the Keplerian elements. The mean elements should differ from the Keplerian elements, but they will be fitted later."
   ]
  },
  {
   "cell_type": "code",
   "execution_count": 9,
   "metadata": {},
   "outputs": [
    {
     "name": "stdout",
     "output_type": "stream",
     "text": [
      "1 99999X 18042F   19001.00000000  .00000000  00000-0  10000-4 0  9996\n",
      "2 99999  98.0000  42.0000 0010000  42.0000  42.0000 14.82366875  1004\n"
     ]
    }
   ],
   "source": [
    "from org.orekit.propagation.analytical.tle import TLE\n",
    "mean_motion = float(np.sqrt(orekit_constants.EIGEN5C_EARTH_MU / np.power(a, 3)))\n",
    "mean_motion_first_derivative = 0.0\n",
    "mean_motion_second_derivative = 0.0\n",
    "b_star_first_guess = 1e-5  # Does not play any role, because it is a free parameter when fitting the TLE\n",
    "\n",
    "tle_first_guess = TLE(satellite_number, \n",
    "                        classification,\n",
    "                        launch_year,\n",
    "                        launch_number,\n",
    "                        launch_piece,\n",
    "                        ephemeris_type,\n",
    "                        element_number,\n",
    "                        date_start_orekit,\n",
    "                        mean_motion,\n",
    "                        mean_motion_first_derivative, \n",
    "                        mean_motion_second_derivative,\n",
    "                        e,\n",
    "                        i,\n",
    "                        pa,\n",
    "                        raan,\n",
    "                        ma,\n",
    "                        revolution_number,\n",
    "                        b_star_first_guess)\n",
    "\n",
    "print(tle_first_guess)"
   ]
  },
  {
   "cell_type": "markdown",
   "metadata": {},
   "source": [
    "Setting up the numerical propagator"
   ]
  },
  {
   "cell_type": "code",
   "execution_count": 10,
   "metadata": {},
   "outputs": [],
   "source": [
    "from org.orekit.attitudes import NadirPointing\n",
    "nadir_pointing = NadirPointing(gcrf, wgs84_ellipsoid)\n",
    "\n",
    "from org.orekit.propagation.conversion import DormandPrince853IntegratorBuilder\n",
    "integrator_builder = DormandPrince853IntegratorBuilder(prop_min_step, prop_max_step, prop_position_error)\n",
    "\n",
    "from org.orekit.propagation.conversion import NumericalPropagatorBuilder\n",
    "propagator_builder = NumericalPropagatorBuilder(keplerian_orbit,\n",
    "                                               integrator_builder, PositionAngle.MEAN, estimator_position_scale)\n",
    "propagator_builder.setMass(sc_mass)\n",
    "propagator_builder.setAttitudeProvider(nadir_pointing)\n",
    "\n",
    "# Earth gravity field with degree 64 and order 64\n",
    "from org.orekit.forces.gravity.potential import GravityFieldFactory\n",
    "gravity_provider = GravityFieldFactory.getConstantNormalizedProvider(64, 64)\n",
    "from org.orekit.forces.gravity import HolmesFeatherstoneAttractionModel\n",
    "gravity_attraction_model = HolmesFeatherstoneAttractionModel(itrf, gravity_provider)\n",
    "propagator_builder.addForceModel(gravity_attraction_model)\n",
    "\n",
    "# Moon and Sun perturbations\n",
    "from org.orekit.forces.gravity import ThirdBodyAttraction\n",
    "moon_3dbodyattraction = ThirdBodyAttraction(moon)\n",
    "propagator_builder.addForceModel(moon_3dbodyattraction)\n",
    "sun_3dbodyattraction = ThirdBodyAttraction(sun)\n",
    "propagator_builder.addForceModel(sun_3dbodyattraction)\n",
    "\n",
    "# Solar radiation pressure\n",
    "from org.orekit.forces.radiation import IsotropicRadiationSingleCoefficient\n",
    "isotropic_radiation_single_coeff = IsotropicRadiationSingleCoefficient(sc_cross_section, cr_radiation_pressure);\n",
    "from org.orekit.forces.radiation import SolarRadiationPressure\n",
    "solar_radiation_pressure = SolarRadiationPressure(sun, wgs84_ellipsoid.getEquatorialRadius(),\n",
    "                                                isotropic_radiation_single_coeff)\n",
    "propagator_builder.addForceModel(solar_radiation_pressure)\n",
    "\n",
    "# Atmospheric drag\n",
    "from org.orekit.forces.drag.atmosphere.data import MarshallSolarActivityFutureEstimation\n",
    "msafe = MarshallSolarActivityFutureEstimation(\n",
    "    '(?:Jan|Feb|Mar|Apr|May|Jun|Jul|Aug|Sep|Oct|Nov|Dec)\\p{Digit}\\p{Digit}\\p{Digit}\\p{Digit}F10\\.(?:txt|TXT)',\n",
    "    MarshallSolarActivityFutureEstimation.StrengthLevel.AVERAGE)\n",
    "from org.orekit.data import DataProvidersManager\n",
    "DM = DataProvidersManager.getInstance()\n",
    "DM.feed(msafe.getSupportedNames(), msafe) # Feeding the F10.7 bulletins to Orekit's data manager\n",
    "\n",
    "from org.orekit.forces.drag.atmosphere import NRLMSISE00\n",
    "atmosphere = NRLMSISE00(msafe, sun, wgs84_ellipsoid)\n",
    "from org.orekit.forces.drag import IsotropicDrag\n",
    "isotropic_drag = IsotropicDrag(sc_cross_section, cd_drag_coeff)\n",
    "from org.orekit.forces.drag import DragForce\n",
    "drag_force = DragForce(atmosphere, isotropic_drag)\n",
    "propagator_builder.addForceModel(drag_force)"
   ]
  },
  {
   "cell_type": "code",
   "execution_count": 11,
   "metadata": {},
   "outputs": [],
   "source": [
    "propagator = propagator_builder.buildPropagator([a, e, i, pa, raan, ma])"
   ]
  },
  {
   "cell_type": "markdown",
   "metadata": {},
   "source": [
    "# Propagating and fitting TLE"
   ]
  },
  {
   "cell_type": "markdown",
   "metadata": {},
   "source": [
    "Propagating"
   ]
  },
  {
   "cell_type": "code",
   "execution_count": 12,
   "metadata": {},
   "outputs": [],
   "source": [
    "from org.orekit.propagation import SpacecraftState\n",
    "initial_state = SpacecraftState(keplerian_orbit, sc_mass)\n",
    "propagator.resetInitialState(initial_state)\n",
    "propagator.setEphemerisMode()\n",
    "date_end_orekit = date_start_orekit.shiftedBy(fitting_duration_d * 86400.0)\n",
    "state_end = propagator.propagate(date_end_orekit)"
   ]
  },
  {
   "cell_type": "markdown",
   "metadata": {},
   "source": [
    "Getting generating ephemeris and saving all intermediate spacecraft states"
   ]
  },
  {
   "cell_type": "code",
   "execution_count": 13,
   "metadata": {},
   "outputs": [],
   "source": [
    "from java.util import ArrayList\n",
    "states_list = ArrayList()\n",
    "bounded_propagator = propagator.getGeneratedEphemeris()\n",
    "\n",
    "date_current = date_start_orekit\n",
    "while date_current.compareTo(date_end_orekit) <= 0:\n",
    "    spacecraft_state = bounded_propagator.propagate(date_current)\n",
    "    states_list.add(spacecraft_state)\n",
    "    date_current = date_current.shiftedBy(dt)"
   ]
  },
  {
   "cell_type": "markdown",
   "metadata": {},
   "source": [
    "Fitting the TLE, based on great example by RomaricH on the Orekit forum: https://forum.orekit.org/t/generation-of-tle/265/4"
   ]
  },
  {
   "cell_type": "code",
   "execution_count": 14,
   "metadata": {},
   "outputs": [],
   "source": [
    "from org.orekit.propagation.conversion import TLEPropagatorBuilder, FiniteDifferencePropagatorConverter\n",
    "from org.orekit.propagation.analytical.tle import TLEPropagator\n",
    "threshold = 1.0  # \"absolute threshold for optimization algorithm\", but no idea about its impact\n",
    "tle_builder = TLEPropagatorBuilder(tle_first_guess, PositionAngle.MEAN, 1.0)\n",
    "fitter = FiniteDifferencePropagatorConverter(tle_builder, threshold, 1000)\n",
    "fitter.convert(states_list, False, 'BSTAR')  # Setting BSTAR as free parameter\n",
    "tle_propagator = TLEPropagator.cast_(fitter.getAdaptedPropagator())\n",
    "tle_fitted = tle_propagator.getTLE()"
   ]
  },
  {
   "cell_type": "markdown",
   "metadata": {},
   "source": [
    "Now let's compare the initial guess with the fitted TLE:"
   ]
  },
  {
   "cell_type": "code",
   "execution_count": 15,
   "metadata": {},
   "outputs": [
    {
     "name": "stdout",
     "output_type": "stream",
     "text": [
      "1 99999X 18042F   19001.00000000  .00000000  00000-0  10000-4 0  9996\n",
      "2 99999  98.0000  42.0000 0010000  42.0000  42.0000 14.82366875  1004\n",
      "\n",
      "1 99999X 18042F   19001.00000000  .00000000  00000-0  86025-3 0  9995\n",
      "2 99999  97.9236  42.2567 0016635  52.1798  31.8862 14.78537902  1007\n"
     ]
    }
   ],
   "source": [
    "print(tle_first_guess)\n",
    "print('')\n",
    "print(tle_fitted)"
   ]
  }
 ],
 "metadata": {
  "kernelspec": {
   "display_name": "Python 3",
   "language": "python",
   "name": "python3"
  },
  "language_info": {
   "codemirror_mode": {
    "name": "ipython",
    "version": 3
   },
   "file_extension": ".py",
   "mimetype": "text/x-python",
   "name": "python",
   "nbconvert_exporter": "python",
   "pygments_lexer": "ipython3",
   "version": "3.7.3"
  }
 },
 "nbformat": 4,
 "nbformat_minor": 2
}
